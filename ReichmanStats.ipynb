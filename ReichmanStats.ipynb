{
 "cells": [
  {
   "cell_type": "code",
   "execution_count": null,
   "metadata": {},
   "outputs": [],
   "source": []
  },
  {
   "cell_type": "markdown",
   "metadata": {},
   "source": [
    "Welcome to this notebook dedicated to practicing and reinforcing core concepts in **Statistics** using **Python**.\n",
    "\n",
    "This collection of exercises is based on material from the **\"Introduction to Statistics for Computer Science\"** course at **Reichman University**, taught by **Amit Novik**.  \n",
    "Full credit for the exercise content goes to the course and its instructor.\n",
    "\n",
    "---\n",
    "\n",
    "This notebook is designed to:\n",
    "- Apply statistical theory to practical problems\n",
    "- Build intuition for key topics like probability distributions, hypothesis testing, descriptive stats, and more\n",
    "- Use powerful Python libraries such as `numpy`, `scipy`, `pandas`, and `matplotlib` for data analysis and visualization\n"
   ]
  }
 ],
 "metadata": {
  "language_info": {
   "name": "python"
  }
 },
 "nbformat": 4,
 "nbformat_minor": 2
}
